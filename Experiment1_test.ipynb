{
 "cells": [
  {
   "cell_type": "code",
   "execution_count": 1,
   "metadata": {},
   "outputs": [
    {
     "name": "stderr",
     "output_type": "stream",
     "text": [
      "Using TensorFlow backend.\n"
     ]
    }
   ],
   "source": [
    "import tensorflow\n",
    "import keras\n",
    "import csv\n",
    "import numpy\n",
    "import matplotlib.pyplot as plot\n",
    "\n",
    "#loading training data\n",
    "X = numpy.loadtxt(\"Datasets/Experiment1_x.csv\", delimiter=\",\")\n",
    "Y = numpy.loadtxt(\"Datasets/Experiment1_y.csv\", delimiter=\",\")"
   ]
  },
  {
   "cell_type": "code",
   "execution_count": 2,
   "metadata": {},
   "outputs": [
    {
     "name": "stdout",
     "output_type": "stream",
     "text": [
      "[[1.47878366e+08 1.47878366e+08 1.47878566e+08 1.47878766e+08\n",
      "  1.47878966e+08]\n",
      " [1.47878466e+08 1.47878366e+08 1.47878566e+08 1.47878766e+08\n",
      "  1.47878966e+08]\n",
      " [1.47878566e+08 1.47878366e+08 1.47878566e+08 1.47878766e+08\n",
      "  1.47878966e+08]\n",
      " [1.47878666e+08 1.47878366e+08 1.47878566e+08 1.47878766e+08\n",
      "  1.47878966e+08]\n",
      " [1.47878766e+08 1.47878366e+08 1.47878566e+08 1.47878766e+08\n",
      "  1.47878966e+08]\n",
      " [1.47878866e+08 1.47878366e+08 1.47878566e+08 1.47878766e+08\n",
      "  1.47878966e+08]\n",
      " [1.47878966e+08 1.47878366e+08 1.47878566e+08 1.47878766e+08\n",
      "  1.47878966e+08]]\n"
     ]
    }
   ],
   "source": [
    "#homomorphic encryption parameters\n",
    "private_key = 73939133\n",
    "public_key = 59393339\n",
    "random_integer = 2\n",
    "input_power = 3\n",
    "weight_power = 3\n",
    "\n",
    "#homomorphic encryption function\n",
    "def encryption(x, input_power=3):\n",
    "    return (x * 10 ** input_power + private_key * random_integer) % (private_key * public_key)\n",
    "\n",
    "#encrypting data\n",
    "X = encryption(X, input_power)\n",
    "print(X)"
   ]
  },
  {
   "cell_type": "code",
   "execution_count": 3,
   "metadata": {},
   "outputs": [
    {
     "name": "stdout",
     "output_type": "stream",
     "text": [
      "Model: \"model_1\"\n",
      "_________________________________________________________________\n",
      "Layer (type)                 Output Shape              Param #   \n",
      "=================================================================\n",
      "input_layer (InputLayer)     (None, 5)                 0         \n",
      "_________________________________________________________________\n",
      "homomorphic_decryption_layer (None, 1)                 5         \n",
      "_________________________________________________________________\n",
      "output_layer (Dense)         (None, 1)                 2         \n",
      "=================================================================\n",
      "Total params: 7\n",
      "Trainable params: 7\n",
      "Non-trainable params: 0\n",
      "_________________________________________________________________\n"
     ]
    }
   ],
   "source": [
    "#constructing input layer\n",
    "input_layer = keras.layers.Input(shape=(5, ), name='input_layer')\n",
    "\n",
    "#constructing hidden layers\n",
    "homomorphic_decryption_layer = keras.layers.Dense_HD(1, activation = 'linear', name='homomorphic_decryption_layer', \n",
    "                                       use_bias=False, input_power=input_power, weight_power=weight_power)(input_layer)\n",
    "\n",
    "#constructing output layer\n",
    "output_layer = keras.layers.Dense(1, activation = 'linear', name='output_layer')(homomorphic_decryption_layer)\n",
    "\n",
    "#constructing the model of neural network\n",
    "model = keras.models.Model(inputs=input_layer, outputs=output_layer)\n",
    "model.summary()"
   ]
  },
  {
   "cell_type": "code",
   "execution_count": 4,
   "metadata": {},
   "outputs": [
    {
     "name": "stdout",
     "output_type": "stream",
     "text": [
      "[array([[1.3829296e+00],\n",
      "       [3.9656395e-01],\n",
      "       [1.8839307e-08],\n",
      "       [1.8841440e-08],\n",
      "       [1.8842350e-08]], dtype=float32), array([[0.7231026]], dtype=float32), array([0.17132434], dtype=float32)]\n"
     ]
    }
   ],
   "source": [
    "#saing the weights of trained neural network\n",
    "model.load_weights('Experiment1_model_weights.h5')\n",
    "\n",
    "#showing the weights in the model of neural network\n",
    "print(model.get_weights())"
   ]
  },
  {
   "cell_type": "code",
   "execution_count": 5,
   "metadata": {},
   "outputs": [
    {
     "name": "stdout",
     "output_type": "stream",
     "text": [
      "[[0.3]\n",
      " [0.4]\n",
      " [0.5]\n",
      " [0.6]\n",
      " [0.7]\n",
      " [0.8]\n",
      " [0.9]]\n"
     ]
    }
   ],
   "source": [
    "#predicting the outputs of the model based on training data\n",
    "predictions = model.predict(X) \n",
    "print(numpy.round(predictions, 1))"
   ]
  }
 ],
 "metadata": {
  "kernelspec": {
   "display_name": "Python 3",
   "language": "python",
   "name": "python3"
  },
  "language_info": {
   "codemirror_mode": {
    "name": "ipython",
    "version": 3
   },
   "file_extension": ".py",
   "mimetype": "text/x-python",
   "name": "python",
   "nbconvert_exporter": "python",
   "pygments_lexer": "ipython3",
   "version": "3.7.6"
  }
 },
 "nbformat": 4,
 "nbformat_minor": 2
}
